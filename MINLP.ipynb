{
 "cells": [
  {
   "attachments": {},
   "cell_type": "markdown",
   "metadata": {},
   "source": [
    "# Planification du pompage dans un réseau de distribution d'eau potable ramifié"
   ]
  },
  {
   "attachments": {},
   "cell_type": "markdown",
   "metadata": {},
   "source": [
    "## 1.   Présentation du modèle mathématique"
   ]
  },
  {
   "attachments": {},
   "cell_type": "markdown",
   "metadata": {},
   "source": [
    "$Variables :$\n",
    "$$\n",
    "\\left.\n",
    "    \\begin{array}{lcl}\n",
    "    q_{kt} & : & \\textit{Débit d'eau pompé par la pompe k à la période t}  \\\\\n",
    "    q_{rt} & : & \\textit{Débit d'eau entrant dans chaque réservoir r à la période t}\\\\\n",
    "    q_{lt} & : & \\textit{Débit d'eau dans la canalisation l à la période t}  \\\\\n",
    "    v_{rt} & : & \\textit{Volume d'eau dans les réservoirs r à la période t}\\\\\n",
    "    p_{kt} & : & \\textit{Puissance de la pompe k à la période t}\\\\\n",
    "    charge & : & \\textit{Charge au noeud j à la période t}\\\\    \n",
    "    \\end{array}\n",
    "\\right.\n",
    "$$"
   ]
  },
  {
   "attachments": {},
   "cell_type": "markdown",
   "metadata": {},
   "source": [
    "$Variables :$\n",
    "$$\n",
    "\\left.\n",
    "    \\begin{array}{lcl}\n",
    "    Objectif & : & Min \\sum_{t=1}^{3} \\sum_{k=1}^4 p_{kt} * c_t \\\\\n",
    "    Flot_s & : & \\sum_{k=1}^{3} q_{kt} = \\sum_{l}q_{lt} \\\\\n",
    "    Flot_r & : & \\sum_{l=1}^{3} q_{lt} = q_{rt} \\\\\n",
    "    Flot_j & : & \\sum_{l=1}^{3} q_{lt} = \\sum_{l}q_{lt} \\\\\n",
    "    \n",
    "    volumes_max & : & v_min(r)\\le v_{rt}  \\le  v_max(r) \\\\\n",
    "    demandes_{t1}  & : & vinit(r) + q_{rt} = v_{rt-1} + demand_{r}^{t1} \\\\\n",
    "    demandes & : & v_{rt} + q_{rt} = v_{rt} + demand_{r}^t \\\\\n",
    "    debits & : & x_{kt} * débit_{min}  =l=  q_{kt} * débit_{max} \\\\\n",
    "    puissances & : & p_{kt} = \\gamma_1*x_k^t + \\gamma_2*q_k^t \\\\\n",
    "    \\end{array}\n",
    "\\right.\n",
    "$$"
   ]
  },
  {
   "attachments": {},
   "cell_type": "markdown",
   "metadata": {},
   "source": [
    "Rapport synthétique, à l'essentiel</br>\n",
    "Catégoriser la solution en fonction du solveur d'optimisation utilisé (BARRON, BONEMINE) (relaxation, pas relaxation, convexe, pas convexe)</br>\n",
    "Algorithme d'pproximation"
   ]
  },
  {
   "cell_type": "markdown",
   "metadata": {},
   "source": []
  }
 ],
 "metadata": {
  "kernelspec": {
   "display_name": "base",
   "language": "python",
   "name": "python3"
  },
  "language_info": {
   "codemirror_mode": {
    "name": "ipython",
    "version": 3
   },
   "file_extension": ".py",
   "mimetype": "text/x-python",
   "name": "python",
   "nbconvert_exporter": "python",
   "pygments_lexer": "ipython3",
   "version": "3.9.12 (main, Apr  4 2022, 05:22:27) [MSC v.1916 64 bit (AMD64)]"
  },
  "orig_nbformat": 4,
  "vscode": {
   "interpreter": {
    "hash": "ad2bdc8ecc057115af97d19610ffacc2b4e99fae6737bb82f5d7fb13d2f2c186"
   }
  }
 },
 "nbformat": 4,
 "nbformat_minor": 2
}
